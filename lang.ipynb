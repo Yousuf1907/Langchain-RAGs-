{
 "cells": [
  {
   "cell_type": "code",
   "execution_count": 2,
   "metadata": {},
   "outputs": [],
   "source": [
    "import os\n",
    "import langchain\n",
    "# from langchain.llms import GoogleGenerativeAI\n",
    "\n",
    "os.environ['GOOGLE_API_KEY']='API_KEY'"
   ]
  },
  {
   "cell_type": "code",
   "execution_count": 3,
   "metadata": {},
   "outputs": [
    {
     "name": "stdout",
     "output_type": "stream",
     "text": [
      "If you enjoyed Harry Potter, you likely appreciate its blend of adventure, magic, friendship, coming-of-age themes, and a touch of darkness.  Here are some fantasy books similar in different aspects:\n",
      "\n",
      "**Similar in Scope and World-Building:**\n",
      "\n",
      "* **The Inheritance Cycle (Eragon) by Christopher Paolini:**  A sprawling epic fantasy series, similar to Harry Potter in its length and the gradual unfolding of a complex world. It features a young, reluctant hero who discovers his destiny and powerful magic.\n",
      "* **The Chronicles of Narnia by C.S. Lewis:**  A classic series with a strong moral compass, featuring a magical world accessed through a wardrobe.  It explores themes of good vs. evil, faith, and redemption.  Might feel slightly less dark than Harry Potter.\n",
      "* **Percy Jackson & The Olympians by Rick Riordan:**  A fun, accessible series with a modern twist on Greek mythology. It features a witty protagonist, exciting quests, and a diverse cast of characters. Less mature themes than Harry Potter.\n",
      "\n",
      "\n",
      "**Similar in Magical School Setting:**\n",
      "\n",
      "* **Miss Peregrine's Home for Peculiar Children by Ransom Riggs:** While not strictly a magical school, it shares the element of a unique group of children with special abilities learning to control their powers under the guidance of a mysterious mentor.  More gothic and atmospheric.\n",
      "* **Sabriel by Garth Nix (Old Kingdom Trilogy):** Features a strong female protagonist attending a magical school, but the setting is more somber and the magic system different.  It's more focused on death and the afterlife.\n",
      "* **A Wizard of Earthsea by Ursula K. Le Guin:** A classic coming-of-age story with a focus on a young wizard's journey of self-discovery.  Simpler prose than Harry Potter but profoundly affecting.\n",
      "\n",
      "\n",
      "**Similar in Themes and Tone (Darker Elements):**\n",
      "\n",
      "* **The Magicians by Lev Grossman:**  A darker, more mature take on the magical school trope.  It explores the complexities of magic and the consequences of unchecked power. More adult themes and language.\n",
      "* **Jonathan Strange & Mr Norrell by Susanna Clarke:**  A very different style, but shares a rich world and intricate magic system with political intrigue.  Very long and dense, but incredibly rewarding.\n",
      "\n",
      "\n",
      "**For Younger Readers (similar feeling but simpler):**\n",
      "\n",
      "* **The Spiderwick Chronicles by Tony DiTerlizzi and Holly Black:**  A series about three siblings who discover a hidden world of fairies. It's captivating and full of illustrations.\n",
      "\n",
      "\n",
      "When choosing, consider what aspects of Harry Potter you enjoyed most.  If it was the magical school, look at the \"Similar in Magical School Setting\" suggestions. If it was the overarching adventure, consider the \"Similar in Scope and World-Building\" choices.  And if you enjoyed the darker elements, the \"Similar in Themes and Tone\" suggestions might be more appealing.\n",
      "\n"
     ]
    }
   ],
   "source": [
    "import os\n",
    "import google.generativeai as genai\n",
    "\n",
    "generation_config = {\n",
    "  \"temperature\": 1,\n",
    "  \"top_p\": 0.95,\n",
    "  \"top_k\": 64,  \n",
    "  \"max_output_tokens\": 8192,\n",
    "  \"response_mime_type\": \"text/plain\",\n",
    "}\n",
    "\n",
    "model = genai.GenerativeModel(\n",
    "  model_name=\"gemini-1.5-flash\",\n",
    "  generation_config=generation_config,\n",
    "  # safety_settings = Adjust safety settings\n",
    "  # See https://ai.google.dev/gemini-api/docs/safety-settings\n",
    ")\n",
    "\n",
    "chat_session = model.start_chat(\n",
    "  history=[\n",
    "  ]\n",
    ")\n",
    "\n",
    "response = chat_session.send_message(\"Suggest me some Fantasy Books like Harry Potter\")\n",
    "print(response.text)"
   ]
  },
  {
   "cell_type": "code",
   "execution_count": 4,
   "metadata": {},
   "outputs": [
    {
     "name": "stdout",
     "output_type": "stream",
     "text": [
      "Uploaded file 'Sales tax 1990.pdf' as: https://generativelanguage.googleapis.com/v1beta/files/ew3mrjf1w2ri\n",
      "Waiting for file processing...\n",
      "...all files ready\n",
      "\n",
      "According to the provided text of the Sales Tax Act, 1990 of Pakistan,  a further tax at the rate of **four percent** of the value is levied on taxable supplies made to a person who has not obtained a registration number or is not an active taxpayer, in addition to the regular sales tax rate.\n",
      "\n"
     ]
    }
   ],
   "source": [
    "import os\n",
    "import time\n",
    "import google.generativeai as genai\n",
    "\n",
    "genai.configure(api_key=os.environ[\"GOOGLE_API_KEY\"])\n",
    "\n",
    "def upload_to_gemini(path, mime_type=None):\n",
    "\n",
    "  file = genai.upload_file(path, mime_type=mime_type)\n",
    "  print(f\"Uploaded file '{file.display_name}' as: {file.uri}\")\n",
    "  return file\n",
    "\n",
    "def wait_for_files_active(files):\n",
    "  print(\"Waiting for file processing...\")\n",
    "  for name in (file.name for file in files):\n",
    "    file = genai.get_file(name)\n",
    "    while file.state.name == \"PROCESSING\":\n",
    "      print(\".\", end=\"\", flush=True)\n",
    "      time.sleep(10)\n",
    "      file = genai.get_file(name)\n",
    "    if file.state.name != \"ACTIVE\":\n",
    "      raise Exception(f\"File {file.name} failed to process\")\n",
    "  print(\"...all files ready\")\n",
    "  print()\n",
    "\n",
    "generation_config = {\n",
    "  \"temperature\": 1,\n",
    "  \"top_p\": 0.95,\n",
    "  \"top_k\": 64,\n",
    "  \"max_output_tokens\": 8192,\n",
    "  \"response_mime_type\": \"text/plain\",\n",
    "}\n",
    "\n",
    "model = genai.GenerativeModel(\n",
    "  model_name=\"gemini-1.5-flash\",\n",
    "  generation_config=generation_config,\n",
    ")\n",
    "\n",
    "files = [\n",
    "  upload_to_gemini(\"Sales tax 1990.pdf\", mime_type=\"application/pdf\"),\n",
    "]\n",
    "\n",
    "wait_for_files_active(files)\n",
    "\n",
    "chat_session = model.start_chat(\n",
    "  history=[\n",
    "    {\n",
    "      \"role\": \"user\",\n",
    "      \"parts\": [\n",
    "        files[0],\n",
    "        \"What is this pdf about?\\n\",\n",
    "      ],\n",
    "    },\n",
    "    {\n",
    "      \"role\": \"model\",\n",
    "      \"parts\": [\n",
    "        \"This pdf is the text of the Sales Tax Act, 1990 of Pakistan. It outlines the scope and rates of sales tax, as well as procedures for registration, payment, and recovery of taxes. It also covers the appointment of tax authorities and their powers, the commission of offences and penalties, and appeal procedures.  There are also a number of schedules that specify various goods that are either exempt or subject to a specific sales tax rate.\",\n",
    "      ],\n",
    "    },\n",
    "  ]\n",
    ")\n",
    "\n",
    "response = chat_session.send_message(\"Wha is the rate of further sales tax applicable on supplies meant to unregistered persons\")\n",
    "print(response.text)"
   ]
  },
  {
   "cell_type": "code",
   "execution_count": 5,
   "metadata": {},
   "outputs": [
    {
     "name": "stdout",
     "output_type": "stream",
     "text": [
      "The Sales Tax Act, 1990, of Pakistan outlines a refund policy for excess input tax paid by registered persons.  Here's a summary based on the document:\n",
      "\n",
      "\n",
      "**Conditions for Refund:**\n",
      "\n",
      "* **Excess Input Tax:**  A refund is due if the input tax paid by a registered person during a tax period exceeds their output tax due to zero-rated local supplies or exports made during that period.  The excess is calculated after deducting input tax not allowed under section 8B (adjustable input tax).\n",
      "\n",
      "* **Time Limit:**  Claims for refunds must be made within one year of the date of payment.  This period can be extended in specific circumstances (e.g., delayed refund due to court decisions).  Applications for refunds must be disposed of within 90 days of filing.\n",
      "\n",
      "* **Non-adjustable Input Tax:**  Excess input tax from supplies other than zero-rated exports can be carried forward to the next tax period.  The Board can specify procedures for the refund of such carried-forward excess input tax.\n",
      "\n",
      "* **Non-Admissibility:** Refunds are not admissible if the input tax is not attributable to taxable supplies or if the incidence of tax has been passed directly or indirectly to the consumer.\n",
      "\n",
      "* **Tax Fraud:** If a refund claim is found to be fraudulent, the default surcharge is applied at a rate of 2% per month on the tax evaded or fraudulently claimed until the entire liability (including default surcharge and penalty) is paid.\n",
      "\n",
      "\n",
      "**Payment Methods:**\n",
      "\n",
      "The refund may be paid directly or via the issuance of sales tax refund bonds by the FBR Refund Settlement Company (under section 67A).\n",
      "\n",
      "**Specific Cases:**\n",
      "\n",
      "There are other provisions covering refunds in specific circumstances such as:\n",
      "\n",
      "* Repayment of tax in certain cases (section 61).\n",
      "* Repayment of tax to persons registered in Azad Jammu and Kashmir (section 61A).\n",
      "* Drawback allowable on re-export (section 62).\n",
      "* Drawback on goods taken into use between importation and re-exportation (section 63).\n",
      "* Tax not levied or short levied due to general practice (section 65).\n",
      "\n",
      "\n",
      "It's crucial to note that this is a summary and the full details, conditions, and procedures are laid out within the specific sections of the Sales Tax Act, 1990.  It's best to consult the full text for precise details relevant to a particular situation.\n",
      "\n"
     ]
    }
   ],
   "source": [
    "response = chat_session.send_message(\"What is the refund policy as mentioned here\")\n",
    "\n",
    "print(response.text)"
   ]
  },
  {
   "cell_type": "code",
   "execution_count": 6,
   "metadata": {},
   "outputs": [
    {
     "name": "stdout",
     "output_type": "stream",
     "text": [
      "Elara wasn't your typical twelve-year-old. While her classmates obsessed over pop stars and TikTok trends, Elara dreamt of faraway lands and fantastical creatures. That dream took a tangible form the day she received a worn, leather backpack from her eccentric grandmother, Nana Willow.  It wasn't just any backpack; it hummed with a faint, almost imperceptible energy.\n",
      "\n",
      "Nana Willow, with a twinkle in her eye, had simply said, \"This backpack, dearie, has a mind of its own.  It knows where you need to go.\"\n",
      "\n",
      "The first time the backpack proved Nana Willow right was a school trip to the local museum. Bored stiff by the Roman artifacts, Elara felt a tug at her shoulders, a subtle shift in the backpack's weight.  She found herself inexplicably drawn to a seemingly unremarkable display case.  Inside, nestled amongst dusty pottery shards, was a tiny, iridescent beetle with wings like stained glass.  The moment Elara touched it, the case opened revealing a hidden compartment containing an ancient scroll detailing the beetle's magical properties. It was a legend, only whispered in Nana Willow’s family for generations.\n",
      "\n",
      "The backpack's magic wasn't about grand adventures, at least not at first. It was about serendipity, nudging Elara towards unexpected discoveries.  A lost puppy hidden in a storm drain, a hidden grove of bioluminescent mushrooms, a forgotten library book containing the answer to a difficult history assignment – the backpack always seemed to lead her to exactly what she needed, or what someone else needed.\n",
      "\n",
      "But then came the day the backpack pulled her towards the ocean.  The tug was stronger this time, insistent.  Hesitantly, Elara followed, the backpack growing warm against her back.  She ended up on a secluded cove, where she found a small, injured sea turtle struggling on the sand.  The backpack, as if anticipating her actions, unzipped to reveal a small, intricately carved wooden box containing a salve Nana Willow had apparently made for just such an occasion.\n",
      "\n",
      "As Elara tended to the turtle, she felt a profound connection to nature, a sense of belonging she’d never experienced before.  When she finally released the healed turtle back into the ocean, the backpack glowed warmly, its leather softening, almost as if it were sighing with relief.\n",
      "\n",
      "The backpack’s magic wasn’t about finding treasures or escaping reality; it was about connecting Elara to the world around her, revealing its hidden wonders and prompting her to act with kindness and compassion.  It wasn't a magical escape, but a magical invitation to live fully and with purpose, one unexpected discovery at a time.  And Elara, the girl who once dreamt of faraway lands, found her greatest adventures right where she was, guided by a simple, magical backpack and her own increasingly compassionate heart.\n",
      "\n"
     ]
    }
   ],
   "source": [
    "model = genai.GenerativeModel(\"gemini-1.5-flash\")\n",
    "response = model.generate_content(\"Write a story about a magic backpack.\")\n",
    "print(response.text)\n"
   ]
  },
  {
   "cell_type": "code",
   "execution_count": 7,
   "metadata": {},
   "outputs": [
    {
     "name": "stdout",
     "output_type": "stream",
     "text": [
      "Uploaded file 'Gemini 1.5 PDF' as: https://generativelanguage.googleapis.com/v1beta/files/lcydae5jh0h4\n"
     ]
    }
   ],
   "source": [
    "sample_file = genai.upload_file(path=\"Yousuf.pdf\",\n",
    "                                display_name=\"Gemini 1.5 PDF\")\n",
    "\n",
    "print(f\"Uploaded file '{sample_file.display_name}' as: {sample_file.uri}\")"
   ]
  },
  {
   "cell_type": "code",
   "execution_count": 8,
   "metadata": {},
   "outputs": [
    {
     "name": "stdout",
     "output_type": "stream",
     "text": [
      "Here's a bulleted list summarizing the provided resume:\n",
      "\n",
      "* **Muhammad Yousuf Soharwardi** is a Data Scientist based in Karachi, Pakistan.\n",
      "\n",
      "* **Education:**\n",
      "    * BS Computer Science from Dawood University of Engineering & Technology (May 2026)\n",
      "    * Data Science from FAST National University (Sep 2023)\n",
      "\n",
      "* **Work Experience:**\n",
      "    * **Freelance Data Scientist (Oct 2023 - Present):**  Utilized advanced techniques to analyze complex datasets, mentored junior data scientists, and provided data-driven solutions to stakeholders.\n",
      "    * **Project Experience:**\n",
      "        * **Brain MRI Results Prediction (July 2024):** Developing a Flask application using deep learning and CNNs to predict brain MRI results. (Under development)\n",
      "        * **Coffee Sales Analysis (Oct 2023):** Analyzed customer reviews from Google Forms using SQL and Power BI to inform marketing strategies.\n",
      "\n",
      "* **Leadership Experience:**\n",
      "    * **Presentation Lead at FAST National University:** Led a team of four to study and present research papers to instructors.\n",
      "\n",
      "* **Skills & Interests:**\n",
      "    * Machine Learning (Sklearn, TensorFlow)\n",
      "    * Data Manipulation & Visualization (SQL, Power BI)\n",
      "    * Communication (Business Presentations, Results Communication)\n",
      "\n",
      "\n",
      "* **Contact Information:**  Provided LinkedIn and GitHub profiles, email address and phone number.\n",
      "\n"
     ]
    }
   ],
   "source": [
    "response = model.generate_content([sample_file, \"Can you summarize this document as a bulleted list?\"])\n",
    "\n",
    "print(response.text)"
   ]
  }
 ],
 "metadata": {
  "kernelspec": {
   "display_name": "Python 3",
   "language": "python",
   "name": "python3"
  },
  "language_info": {
   "codemirror_mode": {
    "name": "ipython",
    "version": 3
   },
   "file_extension": ".py",
   "mimetype": "text/x-python",
   "name": "python",
   "nbconvert_exporter": "python",
   "pygments_lexer": "ipython3",
   "version": "3.12.4"
  }
 },
 "nbformat": 4,
 "nbformat_minor": 2
}
